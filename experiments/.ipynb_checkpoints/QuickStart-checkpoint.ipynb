{
 "cells": [
  {
   "cell_type": "code",
   "execution_count": null,
   "id": "f910077c-800a-461f-a681-20b0daf2274d",
   "metadata": {},
   "outputs": [],
   "source": [
    "from google.colab import drive\n",
    "drive.mount('/content/drive/')\n",
    "!git clone https://github.com/RL4H/RL4T1D.git\n",
    "%cd '/content/RL4T1D'\n",
    "!echo \"MAIN_PATH=$(pwd)\">.env\n",
    "\n",
    "# !pip install -r requirements.txt\n",
    "!pip install python-decouple==3.4\n",
    "!pip install simglucose==0.2.2\n",
    "\n",
    "%cd 'experiments'"
   ]
  },
  {
   "cell_type": "code",
   "execution_count": null,
   "id": "16d5f20a-9f17-48d5-bec4-fb40f84528da",
   "metadata": {},
   "outputs": [],
   "source": [
    "!python run_RL_agent.py --agent ppo --debug True --experiment_folder test64 --device cpu"
   ]
  },
  {
   "cell_type": "code",
   "execution_count": null,
   "id": "b1707678-c5ae-48f7-8e2e-37675744b946",
   "metadata": {},
   "outputs": [],
   "source": [
    "!python run_RL_agent.py --agent ppo --debug True --experiment_folder test64 --device cuda:0"
   ]
  }
 ],
 "metadata": {
  "kernelspec": {
   "display_name": "Python 3 (ipykernel)",
   "language": "python",
   "name": "python3"
  },
  "language_info": {
   "codemirror_mode": {
    "name": "ipython",
    "version": 3
   },
   "file_extension": ".py",
   "mimetype": "text/x-python",
   "name": "python",
   "nbconvert_exporter": "python",
   "pygments_lexer": "ipython3",
   "version": "3.10.12"
  }
 },
 "nbformat": 4,
 "nbformat_minor": 5
}
