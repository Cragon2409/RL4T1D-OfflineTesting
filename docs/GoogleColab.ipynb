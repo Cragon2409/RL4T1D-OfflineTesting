{
 "cells": [
  {
   "cell_type": "code",
   "execution_count": 5,
   "id": "0de1e5a9-1a72-4196-ac8c-09626d819e0c",
   "metadata": {},
   "outputs": [
    {
     "name": "stderr",
     "output_type": "stream",
     "text": [
      "usage: ipykernel_launcher.py [-h] [--experiment_folder EXPERIMENT_FOLDER]\n",
      "                             [--device DEVICE] [--verbose VERBOSE]\n",
      "                             [--seed SEED] [--debug DEBUG]\n",
      "                             [--patient_id PATIENT_ID]\n",
      "                             [--env_config ENV_CONFIG]\n",
      "                             [--clinical_config CLINICAL_CONFIG]\n",
      "                             [--agent AGENT]\n",
      "ipykernel_launcher.py: error: unrecognized arguments: -f /home/chirath/.local/share/jupyter/runtime/kernel-cb5ebf23-2b20-4c83-a9ae-5442f3cadf4f.json\n"
     ]
    },
    {
     "ename": "SystemExit",
     "evalue": "2",
     "output_type": "error",
     "traceback": [
      "An exception has occurred, use %tb to see the full traceback.\n",
      "\u001b[0;31mSystemExit\u001b[0m\u001b[0;31m:\u001b[0m 2\n"
     ]
    }
   ],
   "source": [
    "import sys\n",
    "import torch\n",
    "import random\n",
    "import warnings\n",
    "import numpy as np\n",
    "\n",
    "MAIN_PATH='/home/chirath/Documents/G2P2C/RL4T1D'\n",
    "sys.path.insert(1, MAIN_PATH)\n",
    "\n",
    "from agents.algorithm.ppo import PPO\n",
    "\n",
    "from utils.options import Options\n",
    "warnings.simplefilter('ignore', Warning)\n",
    "\n",
    "# import argparse\n",
    "\n",
    "# parser = argparse.ArgumentParser()\n",
    "# parser.add_argument('--experiment_folder', type=str, default='testing', help='folder path for results and log')\n",
    "# parser.add_argument('--device', type=str, default='cpu', help='give device name')\n",
    "# parser.add_argument('--verbose', type=bool, default=True, help='')\n",
    "# parser.add_argument('--seed', type=int, default=0, help='')\n",
    "# parser.add_argument('--debug', type=bool, default=False, help='if debug ON => 1')\n",
    "\n",
    "# # environment\n",
    "# parser.add_argument('--patient_id', type=int, default=0, help='id: adolescent(0-9), child(10-19), adult(20-29)')\n",
    "# parser.add_argument('--env_config', type=str, default=MAIN_PATH+'/environment/env_config.yaml', help='')\n",
    "# parser.add_argument('--clinical_config', type=str, default=MAIN_PATH+'/agents/std_bb/bb_config.yaml', help='')\n",
    "\n",
    "# # RL agent\n",
    "# parser.add_argument('--agent', type=str, default='ppo', help='agent used for the experiment.')\n",
    "# parser.add_argument('--rl_config', type=str, default=MAIN_PATH+'/agents/configs/'+'ppo'+'_config.yaml', help='')\n",
    "# parser.add_argument('--debug_config', type=str, default=MAIN_PATH+'/experiments/debug_config.yaml', help='')\n",
    "# args = parser.parse_args('')\n",
    "\n",
    "# config = vars(args)\n",
    "# print(config)\n",
    "args = Options().parse('')  # load arguments\n",
    "# agent = set_agent_parameters(args)  # load agent\n",
    "\n",
    "# if args.verbose:\n",
    "#     print('\\nExperiment Starting...')\n",
    "#     print(\"\\nOptions =================>\")\n",
    "#     print(vars(args))\n",
    "#     print('\\nDevice which the program run on:', args.device)\n",
    "\n",
    "#agent = PPO(args=args, load_model=False, actor_path='', critic_path='')\n"
   ]
  },
  {
   "cell_type": "code",
   "execution_count": 6,
   "id": "b9e65bc5-b1f8-400b-abac-60f1df90f4c3",
   "metadata": {},
   "outputs": [
    {
     "name": "stdout",
     "output_type": "stream",
     "text": [
      "python: can't open file '/home/chirath/Documents/G2P2C/RL4T1D/docs/run_RL_agent.py': [Errno 2] No such file or directory\n"
     ]
    }
   ],
   "source": [
    "!python run_RL_agent.py --agent ppo --debug True --experiment_folder test64"
   ]
  },
  {
   "cell_type": "code",
   "execution_count": null,
   "id": "2147bad4-0cb6-4bc7-8ebe-2ad08c0f8384",
   "metadata": {},
   "outputs": [],
   "source": []
  }
 ],
 "metadata": {
  "kernelspec": {
   "display_name": "Python 3 (ipykernel)",
   "language": "python",
   "name": "python3"
  },
  "language_info": {
   "codemirror_mode": {
    "name": "ipython",
    "version": 3
   },
   "file_extension": ".py",
   "mimetype": "text/x-python",
   "name": "python",
   "nbconvert_exporter": "python",
   "pygments_lexer": "ipython3",
   "version": "3.10.12"
  }
 },
 "nbformat": 4,
 "nbformat_minor": 5
}
